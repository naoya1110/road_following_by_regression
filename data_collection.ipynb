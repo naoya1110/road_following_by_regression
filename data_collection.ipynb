{
 "cells": [
  {
   "cell_type": "markdown",
   "metadata": {
    "id": "XyNIBUAtY5QW"
   },
   "source": [
    "# Road Following by Regression - Data Collection\n",
    "\n"
   ]
  },
  {
   "cell_type": "markdown",
   "metadata": {
    "id": "X6ZmdVs5dXBr"
   },
   "source": [
    "## Introduction\n",
    "\n",
    "In this series of **Road Following by Regression**, we will try to make the JetBot to follow a desired road by using a regression model.\n",
    "\n",
    "This is the notebook for data collection."
   ]
  },
  {
   "cell_type": "markdown",
   "metadata": {
    "id": "VgtYpQdKY5Qb"
   },
   "source": [
    "## Live Camera Feed\n",
    "Let's create a camera instance and an image widget, and then make a link between them."
   ]
  },
  {
   "cell_type": "code",
   "execution_count": 1,
   "metadata": {
    "colab": {
     "referenced_widgets": [
      "a570e926b1bb476b9bfa908ec3307fee"
     ]
    },
    "id": "78FULcqnY5Qc",
    "outputId": "2cea0fb5-49fd-4858-9660-8aa193985c20",
    "scrolled": true
   },
   "outputs": [
    {
     "data": {
      "application/vnd.jupyter.widget-view+json": {
       "model_id": "eb10302ce20542cd94c1383a7917a404",
       "version_major": 2,
       "version_minor": 0
      },
      "text/plain": [
       "Image(value=b'\\xff\\xd8\\xff\\xe0\\x00\\x10JFIF\\x00\\x01\\x01\\x00\\x00\\x01\\x00\\x01\\x00\\x00\\xff\\xdb\\x00C\\x00\\x02\\x01\\x0…"
      ]
     },
     "metadata": {},
     "output_type": "display_data"
    }
   ],
   "source": [
    "import traitlets\n",
    "import ipywidgets.widgets as widgets\n",
    "from IPython.display import display\n",
    "from jetbot import Camera, bgr8_to_jpeg\n",
    "\n",
    "size=224\n",
    "camera = Camera.instance(width=size, height=size)\n",
    "image = widgets.Image(format='jpeg', width=size, height=size)  # this width and height doesn't necessarily have to match the camera\n",
    "camera_link = traitlets.dlink((camera, 'value'), (image, 'value'), transform=bgr8_to_jpeg)\n",
    "display(image)"
   ]
  },
  {
   "cell_type": "markdown",
   "metadata": {},
   "source": [
    "Stop the camera for now."
   ]
  },
  {
   "cell_type": "code",
   "execution_count": 2,
   "metadata": {},
   "outputs": [],
   "source": [
    "camera.stop()"
   ]
  },
  {
   "cell_type": "markdown",
   "metadata": {
    "id": "Tshpi_6TZU_D"
   },
   "source": [
    "## Robot Instance\n",
    "Let's create a robot instance so that we can contol the JetBot motors."
   ]
  },
  {
   "cell_type": "code",
   "execution_count": 3,
   "metadata": {
    "id": "eKIkTXJJY5Qd"
   },
   "outputs": [],
   "source": [
    "from jetbot import Robot\n",
    "robot = Robot()"
   ]
  },
  {
   "cell_type": "markdown",
   "metadata": {},
   "source": [
    "Make sure the motors are working."
   ]
  },
  {
   "cell_type": "code",
   "execution_count": 4,
   "metadata": {},
   "outputs": [],
   "source": [
    "import time\n",
    "robot.set_motors(-0.1, 0.1)\n",
    "time.sleep(0.1)\n",
    "robot.stop()"
   ]
  },
  {
   "cell_type": "markdown",
   "metadata": {
    "id": "zKRSntwJY5Qe"
   },
   "source": [
    "## Data Directory\n",
    "Create a directory named `dataset_reg` for collecting the image data."
   ]
  },
  {
   "cell_type": "code",
   "execution_count": 6,
   "metadata": {
    "id": "277HbA3bY5Qe",
    "outputId": "f656c544-b3cc-462a-e899-ae233ff87406"
   },
   "outputs": [
    {
     "name": "stdout",
     "output_type": "stream",
     "text": [
      "Directory was not created because they already exist\n"
     ]
    }
   ],
   "source": [
    "import os\n",
    "DATASET_DIR = 'dataset_reg'\n",
    "try:\n",
    "    os.makedirs(DATASET_DIR)\n",
    "except FileExistsError:\n",
    "    print('Directory was not created because they already exist')"
   ]
  },
  {
   "cell_type": "markdown",
   "metadata": {},
   "source": [
    "## Define move_robot function\n",
    "Define a function to control the motors depending on the x and y coordinates of the target point."
   ]
  },
  {
   "cell_type": "code",
   "execution_count": 9,
   "metadata": {},
   "outputs": [],
   "source": [
    "def move_robot(x, y):\n",
    "    # move robot\n",
    "    speed_gain = 0.3\n",
    "    b = 0.3               # kind of steering gain\n",
    "    x = x/size-0.5\n",
    "    y = 1-y/size\n",
    "    a = np.sqrt(x**2 + y**2)\n",
    "    angle = np.pi/2-np.arctan2(y, x)+1E-6\n",
    "    c = a/np.sin(np.abs(angle))\n",
    "\n",
    "    if angle >= 0:\n",
    "        left_motor = speed_gain*(c+b)*np.abs(angle)\n",
    "        right_motor = speed_gain*(c-b)*np.abs(angle)  \n",
    "    else:\n",
    "        left_motor = speed_gain*(c-b)*np.abs(np.abs(angle))\n",
    "        right_motor = speed_gain*(c+b)*np.abs(np.abs(angle))              \n",
    "\n",
    "    robot.set_motors(left_motor/2, right_motor/2)\n",
    "    time.sleep(0.1)\n",
    "    robot.set_motors(left_motor, right_motor)\n",
    "    time.sleep(0.2)\n",
    "    robot.stop()"
   ]
  },
  {
   "cell_type": "markdown",
   "metadata": {
    "id": "-jiRAKdubrMV"
   },
   "source": [
    "## Data Collection\n",
    "\n",
    "Let's start data collection. By clicking on somewhere on the camera feed, a snapshot will be taken and the robot will try to move toward the clicked point, i.e. target point. The coordinates (x and y) of the target point will be saved as a part of the filename.  "
   ]
  },
  {
   "cell_type": "code",
   "execution_count": 10,
   "metadata": {},
   "outputs": [
    {
     "data": {
      "application/vnd.jupyter.widget-view+json": {
       "model_id": "04ebb925268e4675b80881ee798ff2b9",
       "version_major": 2,
       "version_minor": 0
      },
      "text/plain": [
       "VBox(children=(HBox(children=(ClickableImageWidget(value=b'\\xff\\xd8\\xff\\xe0\\x00\\x10JFIF\\x00\\x01\\x01\\x00\\x00\\x0…"
      ]
     },
     "metadata": {},
     "output_type": "display_data"
    }
   ],
   "source": [
    "import numpy as np\n",
    "import cv2\n",
    "import glob\n",
    "import ipywidgets\n",
    "from jupyter_clickable_image_widget import ClickableImageWidget\n",
    "from datetime import datetime\n",
    "\n",
    "camera = Camera()\n",
    "\n",
    "# create image preview\n",
    "camera_widget = ClickableImageWidget(width=camera.width, height=camera.height)\n",
    "snapshot_widget = ipywidgets.Image(width=camera.width, height=camera.height)\n",
    "traitlets.dlink((camera, 'value'), (camera_widget, 'value'), transform=bgr8_to_jpeg)\n",
    "\n",
    "# create widgets\n",
    "count_widget = ipywidgets.IntText(description='count')\n",
    "# manually update counts at initialization\n",
    "count_widget.value = len(glob.glob(os.path.join(DATASET_DIR, '*.jpg')))\n",
    "\n",
    "def save_snapshot(_, content, msg):\n",
    "    if content['event'] == 'click':\n",
    "        data = content['eventData']\n",
    "        x = data['offsetX']\n",
    "        y = data['offsetY']\n",
    "        \n",
    "        # save data\n",
    "        now = datetime.now().strftime(\"%Y%m%d_%H%M%S\")\n",
    "        filename = f\"{now}_xy_{x}_{y}_.jpg\"\n",
    "        image_path = os.path.join(DATASET_DIR, filename)\n",
    "        with open(image_path, 'wb') as f:\n",
    "            f.write(camera_widget.value)\n",
    "        \n",
    "        # display saved snapshot\n",
    "        snapshot = camera.value.copy()\n",
    "        snapshot = cv2.circle(snapshot, (x, y), 8, (0, 255, 0), 3)\n",
    "        snapshot_widget.value = bgr8_to_jpeg(snapshot)\n",
    "        count_widget.value = len(glob.glob(os.path.join(DATASET_DIR, '*.jpg')))\n",
    "        \n",
    "        # move robot\n",
    "        move_robot(x, y)\n",
    "        \n",
    "camera_widget.on_msg(save_snapshot)\n",
    "\n",
    "data_collection_widget = ipywidgets.VBox([\n",
    "    ipywidgets.HBox([camera_widget, snapshot_widget]),\n",
    "    count_widget])\n",
    "\n",
    "display(data_collection_widget)"
   ]
  },
  {
   "cell_type": "markdown",
   "metadata": {
    "id": "8cqpL07gcNZH"
   },
   "source": [
    "## Stop Camera\n",
    "After you finished the data collection, stop the camera."
   ]
  },
  {
   "cell_type": "code",
   "execution_count": 8,
   "metadata": {
    "id": "A7VxIXqnY5Qj"
   },
   "outputs": [],
   "source": [
    "camera.stop()"
   ]
  },
  {
   "cell_type": "markdown",
   "metadata": {
    "id": "lsRCB7L2Y5Qj"
   },
   "source": [
    "## Zip Dataset\n",
    "Make `dataset_reg` directory to `dataset_reg.zip` so that we can upload it to Google Colab for training a model."
   ]
  },
  {
   "cell_type": "code",
   "execution_count": null,
   "metadata": {
    "id": "ilWW5zFpY5Qk"
   },
   "outputs": [],
   "source": [
    "!zip -r -q dataset_reg.zip dataset_reg"
   ]
  },
  {
   "cell_type": "markdown",
   "metadata": {
    "id": "DQtVqCMKuhlX"
   },
   "source": [
    "\n",
    "---"
   ]
  },
  {
   "cell_type": "markdown",
   "metadata": {
    "id": "YT25ppWEY5Qk"
   },
   "source": [
    "## ***(Danger!!) Delete All Dataset***\n",
    "\n",
    "Next commands delete all of your collected data in the ``dataset_reg`` directory."
   ]
  },
  {
   "cell_type": "code",
   "execution_count": null,
   "metadata": {
    "id": "K2CEfkSqY5Qk"
   },
   "outputs": [],
   "source": [
    "# import shutil\n",
    "# shutil.rmtree(\"dataset_reg\")"
   ]
  },
  {
   "cell_type": "code",
   "execution_count": null,
   "metadata": {},
   "outputs": [],
   "source": []
  }
 ],
 "metadata": {
  "colab": {
   "collapsed_sections": [],
   "name": "data_collection.ipynb",
   "provenance": []
  },
  "kernelspec": {
   "display_name": "Python 3",
   "language": "python",
   "name": "python3"
  },
  "language_info": {
   "codemirror_mode": {
    "name": "ipython",
    "version": 3
   },
   "file_extension": ".py",
   "mimetype": "text/x-python",
   "name": "python",
   "nbconvert_exporter": "python",
   "pygments_lexer": "ipython3",
   "version": "3.6.9"
  }
 },
 "nbformat": 4,
 "nbformat_minor": 4
}
